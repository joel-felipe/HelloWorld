{
  "nbformat": 4,
  "nbformat_minor": 0,
  "metadata": {
    "colab": {
      "name": "DSTN07 - Numpy - Parte I.ipynb",
      "provenance": [],
      "include_colab_link": true
    },
    "kernelspec": {
      "display_name": "Python 3",
      "language": "python",
      "name": "python3"
    },
    "language_info": {
      "codemirror_mode": {
        "name": "ipython",
        "version": 3
      },
      "file_extension": ".py",
      "mimetype": "text/x-python",
      "name": "python",
      "nbconvert_exporter": "python",
      "pygments_lexer": "ipython3",
      "version": "3.7.2"
    },
    "toc": {
      "base_numbering": 1,
      "nav_menu": {},
      "number_sections": true,
      "sideBar": true,
      "skip_h1_title": false,
      "title_cell": "Table of Contents",
      "title_sidebar": "Contents",
      "toc_cell": false,
      "toc_position": {
        "height": "calc(100% - 180px)",
        "left": "10px",
        "top": "150px",
        "width": "252px"
      },
      "toc_section_display": true,
      "toc_window_display": true
    }
  },
  "cells": [
    {
      "cell_type": "markdown",
      "metadata": {
        "id": "view-in-github",
        "colab_type": "text"
      },
      "source": [
        "<a href=\"https://colab.research.google.com/github/joel8716/HelloWorld/blob/master/DSTN07_Numpy_Parte_I.ipynb\" target=\"_parent\"><img src=\"https://colab.research.google.com/assets/colab-badge.svg\" alt=\"Open In Colab\"/></a>"
      ]
    },
    {
      "cell_type": "markdown",
      "metadata": {
        "id": "7NAhggirV2Xm"
      },
      "source": [
        "# Agenda"
      ]
    },
    {
      "cell_type": "markdown",
      "metadata": {
        "id": "sCoHPoSJV2Xn"
      },
      "source": [
        "> Data: 16/09/2020<br>\n",
        "> Aula: 03 <br>\n",
        "> Módulo: 00 <br>\n",
        "> Instrutores: Bruno Vieira e Maurício Nascimento<br>\n",
        "> Turma: DSTN07"
      ]
    },
    {
      "cell_type": "markdown",
      "metadata": {
        "id": "JrsHXZd6V2Xn"
      },
      "source": [
        "O objetivo dessa aula é introduzir a biblioteca Numpy.\n"
      ]
    },
    {
      "cell_type": "markdown",
      "metadata": {
        "id": "7wFxuwqgV2Xo"
      },
      "source": [
        "**Tópicos**:\n",
        "* Numpy:\n",
        " - ndarray\n",
        " - Inicialização de Arrays Numpy e Primeiros Passos\n",
        " - Manipulação das dimensões de um array\n",
        " - Fatiamento em Arrays\n",
        "\n",
        "\n"
      ]
    },
    {
      "cell_type": "markdown",
      "metadata": {
        "id": "86C1gSC-V2Xp"
      },
      "source": [
        "# Numpy (Parte I)"
      ]
    },
    {
      "cell_type": "markdown",
      "metadata": {
        "id": "_YgqwofiV2Xp"
      },
      "source": [
        "## ndarray"
      ]
    },
    {
      "cell_type": "markdown",
      "metadata": {
        "id": "SWOBOcTRV2Xq"
      },
      "source": [
        "O uso de arrays numpy se popularizou no meio da computação científica, por sua eficiência. Essa eficiência se deve muito em função das seguintes características:\n",
        "\n",
        "* Todos os elementos são do mesmo tipo (float ou int)\n",
        "* Os arrays têm tamanho fixo"
      ]
    },
    {
      "cell_type": "markdown",
      "metadata": {
        "id": "AI76FAaXV2Xq"
      },
      "source": [
        "## Inicialização de Arrays Numpy e Primeiros Passos"
      ]
    },
    {
      "cell_type": "code",
      "metadata": {
        "id": "eWl2Ej7uV2Xs"
      },
      "source": [
        "import numpy as np"
      ],
      "execution_count": null,
      "outputs": []
    },
    {
      "cell_type": "code",
      "metadata": {
        "id": "Orcb-WAOV2X0"
      },
      "source": [
        "lista = [1, 2, 3]\n",
        "np_array = np.array(lista)"
      ],
      "execution_count": null,
      "outputs": []
    },
    {
      "cell_type": "code",
      "metadata": {
        "id": "6Eb9zuCWV2X4",
        "colab": {
          "base_uri": "https://localhost:8080/",
          "height": 51
        },
        "outputId": "f75db550-8bd3-41d7-b169-14d44f8ddc93"
      },
      "source": [
        "print(np_array)\n",
        "type(np_array)"
      ],
      "execution_count": null,
      "outputs": [
        {
          "output_type": "stream",
          "text": [
            "[1 2 3]\n"
          ],
          "name": "stdout"
        },
        {
          "output_type": "execute_result",
          "data": {
            "text/plain": [
              "numpy.ndarray"
            ]
          },
          "metadata": {
            "tags": []
          },
          "execution_count": 4
        }
      ]
    },
    {
      "cell_type": "code",
      "metadata": {
        "id": "o6j_v9hdV2X7",
        "colab": {
          "base_uri": "https://localhost:8080/",
          "height": 34
        },
        "outputId": "8445ad62-14ee-4b22-b653-76cf8979509e"
      },
      "source": [
        "np_array.ndim\n",
        "np_array.size"
      ],
      "execution_count": null,
      "outputs": [
        {
          "output_type": "execute_result",
          "data": {
            "text/plain": [
              "3"
            ]
          },
          "metadata": {
            "tags": []
          },
          "execution_count": 7
        }
      ]
    },
    {
      "cell_type": "code",
      "metadata": {
        "id": "-ijQqc1uV2X_"
      },
      "source": [
        ""
      ],
      "execution_count": null,
      "outputs": []
    },
    {
      "cell_type": "code",
      "metadata": {
        "id": "7ZG3i7rgV2YC"
      },
      "source": [
        ""
      ],
      "execution_count": null,
      "outputs": []
    },
    {
      "cell_type": "markdown",
      "metadata": {
        "id": "0OAXqJ96V2YG"
      },
      "source": [
        "Se quisermos um array com um valor específico, usamos o ```np.full```"
      ]
    },
    {
      "cell_type": "code",
      "metadata": {
        "id": "ItdL8L8eV2YH"
      },
      "source": [
        ""
      ],
      "execution_count": null,
      "outputs": []
    },
    {
      "cell_type": "markdown",
      "metadata": {
        "id": "DB7ch-DIV2YK"
      },
      "source": [
        "## Manipulação das dimensões de um array"
      ]
    },
    {
      "cell_type": "markdown",
      "metadata": {
        "id": "ddPo00WrV2YK"
      },
      "source": [
        "Se temos um array de dimensões n x m, podemos aplicar uma reformatação, para que mude suas dimensões sem alterar os dados.\n",
        "O importante é que o produto n.m seja constante.\n",
        "\n"
      ]
    },
    {
      "cell_type": "code",
      "metadata": {
        "id": "trujvE0hV2YL"
      },
      "source": [
        ""
      ],
      "execution_count": null,
      "outputs": []
    },
    {
      "cell_type": "code",
      "metadata": {
        "id": "NVriyYE3V2YO"
      },
      "source": [
        ""
      ],
      "execution_count": null,
      "outputs": []
    },
    {
      "cell_type": "markdown",
      "metadata": {
        "id": "RhHNW1PuV2YS"
      },
      "source": [
        "O comando ravel distorce o array multidimensional e o transforma em um array 1D."
      ]
    },
    {
      "cell_type": "code",
      "metadata": {
        "id": "jyCSuAoBV2YU"
      },
      "source": [
        ""
      ],
      "execution_count": null,
      "outputs": []
    },
    {
      "cell_type": "code",
      "metadata": {
        "id": "Ip6dwG5SV2Ya"
      },
      "source": [
        ""
      ],
      "execution_count": null,
      "outputs": []
    },
    {
      "cell_type": "code",
      "metadata": {
        "id": "-wDo5WJVV2Yc"
      },
      "source": [
        ""
      ],
      "execution_count": null,
      "outputs": []
    },
    {
      "cell_type": "code",
      "metadata": {
        "id": "KShmlMXZV2Yf"
      },
      "source": [
        ""
      ],
      "execution_count": null,
      "outputs": []
    },
    {
      "cell_type": "code",
      "metadata": {
        "id": "E2kwJjJNV2Yi"
      },
      "source": [
        ""
      ],
      "execution_count": null,
      "outputs": []
    },
    {
      "cell_type": "code",
      "metadata": {
        "id": "eMJ24hObV2Yl"
      },
      "source": [
        ""
      ],
      "execution_count": null,
      "outputs": []
    },
    {
      "cell_type": "code",
      "metadata": {
        "id": "PKNfKQd5V2Yo"
      },
      "source": [
        ""
      ],
      "execution_count": null,
      "outputs": []
    },
    {
      "cell_type": "code",
      "metadata": {
        "id": "DMv749EvV2Ys"
      },
      "source": [
        ""
      ],
      "execution_count": null,
      "outputs": []
    },
    {
      "cell_type": "markdown",
      "metadata": {
        "id": "_JNxfIu-V2Yu"
      },
      "source": [
        "## Fatiamento em Arrays"
      ]
    },
    {
      "cell_type": "markdown",
      "metadata": {
        "id": "bgcXa_n-V2Yv"
      },
      "source": [
        ": --> significa todos"
      ]
    },
    {
      "cell_type": "code",
      "metadata": {
        "id": "OQjg8nYHV2Yv"
      },
      "source": [
        ""
      ],
      "execution_count": null,
      "outputs": []
    },
    {
      "cell_type": "code",
      "metadata": {
        "id": "1KA8PHvUV2Yz"
      },
      "source": [
        ""
      ],
      "execution_count": null,
      "outputs": []
    },
    {
      "cell_type": "code",
      "metadata": {
        "id": "DAuCBW3-V2Y1"
      },
      "source": [
        ""
      ],
      "execution_count": null,
      "outputs": []
    },
    {
      "cell_type": "code",
      "metadata": {
        "id": "lodqa4V5V2Y4"
      },
      "source": [
        ""
      ],
      "execution_count": null,
      "outputs": []
    },
    {
      "cell_type": "code",
      "metadata": {
        "id": "bO-06o5KV2Y6"
      },
      "source": [
        ""
      ],
      "execution_count": null,
      "outputs": []
    },
    {
      "cell_type": "markdown",
      "metadata": {
        "id": "sWTQPEL_V2Y8"
      },
      "source": [
        "Exercício, print elemento por elemento, utilizando For loop, o seguinte array: <br>\n",
        "    array_exercicio = np.array([1,2,3],[4,5,6])"
      ]
    },
    {
      "cell_type": "code",
      "metadata": {
        "id": "IBnKDmDgV2Y9"
      },
      "source": [
        ""
      ],
      "execution_count": null,
      "outputs": []
    },
    {
      "cell_type": "code",
      "metadata": {
        "id": "EG1SnTveV2ZB"
      },
      "source": [
        ""
      ],
      "execution_count": null,
      "outputs": []
    }
  ]
}