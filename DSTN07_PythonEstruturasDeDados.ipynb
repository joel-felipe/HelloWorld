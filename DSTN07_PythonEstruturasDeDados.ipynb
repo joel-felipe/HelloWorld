{
  "nbformat": 4,
  "nbformat_minor": 0,
  "metadata": {
    "colab": {
      "name": "DSTN07 - PythonEstruturasDeDados.ipynb",
      "provenance": [],
      "toc_visible": true,
      "include_colab_link": true
    },
    "kernelspec": {
      "display_name": "Python 3",
      "language": "python",
      "name": "python3"
    },
    "language_info": {
      "codemirror_mode": {
        "name": "ipython",
        "version": 3
      },
      "file_extension": ".py",
      "mimetype": "text/x-python",
      "name": "python",
      "nbconvert_exporter": "python",
      "pygments_lexer": "ipython3",
      "version": "3.8.3"
    },
    "toc": {
      "base_numbering": 1,
      "nav_menu": {},
      "number_sections": true,
      "sideBar": true,
      "skip_h1_title": false,
      "title_cell": "Table of Contents",
      "title_sidebar": "Contents",
      "toc_cell": false,
      "toc_position": {},
      "toc_section_display": true,
      "toc_window_display": true
    }
  },
  "cells": [
    {
      "cell_type": "markdown",
      "metadata": {
        "id": "view-in-github",
        "colab_type": "text"
      },
      "source": [
        "<a href=\"https://colab.research.google.com/github/joel8716/HelloWorld/blob/master/DSTN07_PythonEstruturasDeDados.ipynb\" target=\"_parent\"><img src=\"https://colab.research.google.com/assets/colab-badge.svg\" alt=\"Open In Colab\"/></a>"
      ]
    },
    {
      "cell_type": "markdown",
      "metadata": {
        "id": "-5SFGrvuQAqa"
      },
      "source": [
        "# Agenda"
      ]
    },
    {
      "cell_type": "markdown",
      "metadata": {
        "id": "d-sk7s0fQAqc"
      },
      "source": [
        "> Data: 14/09/2020<br>\n",
        "> Aula: 02 <br>\n",
        "> Módulo: 00 <br>\n",
        "> Instrutores: Bruno Vieira e Maurício Nascimento<br>\n",
        "> Turma: DSTN07"
      ]
    },
    {
      "cell_type": "markdown",
      "metadata": {
        "id": "_q19YtIYQAqd"
      },
      "source": [
        "O objetivo dessa aula é revisar conceitos de programação e estrutura de dados em Python 3.\n"
      ]
    },
    {
      "cell_type": "markdown",
      "metadata": {
        "id": "3Im7qys7QAqe"
      },
      "source": [
        "**Tópicos**:\n",
        "* Revisão de Python:\n",
        " - Variáveis\n",
        " - Constantes\n",
        " - Tipos de variáveis\n",
        " - Operações Matemáticas\n",
        " - Strings\n",
        " - Prints\n",
        " - Input\n",
        " - Comparadores e Operadores Lógicos\n",
        " - Estruturas Condicionais\n",
        " - Loops (For e While)\n",
        " \n",
        " \n",
        "* Estruturas de Dados:\n",
        " - Listas\n",
        " - Tuplas\n",
        " - Conjuntos\n",
        " - Dicionários"
      ]
    },
    {
      "cell_type": "markdown",
      "metadata": {
        "id": "MNjoH2AGQAqf"
      },
      "source": [
        "# Revisão de Python"
      ]
    },
    {
      "cell_type": "markdown",
      "metadata": {
        "id": "Ku7iHrBgQAqh"
      },
      "source": [
        "## Variáveis"
      ]
    },
    {
      "cell_type": "markdown",
      "metadata": {
        "id": "2wVTjJuqQAqh"
      },
      "source": [
        "Uma variável é um objeto que guarda um valor e armazena esse valor na memória do computador durante o tempo de desenvolvimento. Podemos inicializar uma variável por meio do comando de atribuição '='."
      ]
    },
    {
      "cell_type": "markdown",
      "metadata": {
        "id": "6phWKWU8QAqi"
      },
      "source": [
        "<img src=\"variavel_memoria.jpeg\" height=700 width=500>"
      ]
    },
    {
      "cell_type": "code",
      "metadata": {
        "id": "OKa69itmQAqj"
      },
      "source": [
        ""
      ],
      "execution_count": null,
      "outputs": []
    },
    {
      "cell_type": "code",
      "metadata": {
        "id": "WdI8wKq5QAqn"
      },
      "source": [
        ""
      ],
      "execution_count": null,
      "outputs": []
    },
    {
      "cell_type": "code",
      "metadata": {
        "id": "6w0301IDQAqs"
      },
      "source": [
        ""
      ],
      "execution_count": null,
      "outputs": []
    },
    {
      "cell_type": "code",
      "metadata": {
        "id": "WqkG6JXXQAqw"
      },
      "source": [
        ""
      ],
      "execution_count": null,
      "outputs": []
    },
    {
      "cell_type": "code",
      "metadata": {
        "id": "IzhK3D3jQAq0"
      },
      "source": [
        ""
      ],
      "execution_count": null,
      "outputs": []
    },
    {
      "cell_type": "markdown",
      "metadata": {
        "id": "NEVFlY9YQAq3"
      },
      "source": [
        "Ao utilizarmos variáveis, em vez de simplesmente escrever o valor que desejamos é que a variável nos traz a vantagem de ser, como o próprio nome já diz, variável. Dessa forma, podemos modificar a variável nos momentos que acharmos necessários.\n",
        "Em um código longo, se você utiliza o mesmo valor em diversas operações, é interessante que você o armazene como uma variável. Dessa maneira, caso você precise trocar o valor desejado, basta apenas mudá-lo uma única vez."
      ]
    },
    {
      "cell_type": "code",
      "metadata": {
        "id": "CnP7WUzhQAq3"
      },
      "source": [
        ""
      ],
      "execution_count": null,
      "outputs": []
    },
    {
      "cell_type": "code",
      "metadata": {
        "id": "Mv-DyXTnQAq_"
      },
      "source": [
        ""
      ],
      "execution_count": null,
      "outputs": []
    },
    {
      "cell_type": "markdown",
      "metadata": {
        "id": "zHZPvuATQArD"
      },
      "source": [
        "**ATENÇÃO!!:** \n",
        "* Nomes compostos de variáveis são separados por _. Esse método de nomeação é conhecido como snake case.\n",
        "* Nomes não podem começar com números, podem podem conter números\n",
        "* Se sua variável foi criada para armazenar um valor específico e que não muda, utilizamos letras maiúsculas.\n"
      ]
    },
    {
      "cell_type": "code",
      "metadata": {
        "id": "h6REwVEbQArE"
      },
      "source": [
        ""
      ],
      "execution_count": null,
      "outputs": []
    },
    {
      "cell_type": "code",
      "metadata": {
        "id": "sXWwksDMQArG"
      },
      "source": [
        ""
      ],
      "execution_count": null,
      "outputs": []
    },
    {
      "cell_type": "markdown",
      "metadata": {
        "id": "usl0SzvlQArK"
      },
      "source": [
        "## Tipos de Variáveis"
      ]
    },
    {
      "cell_type": "markdown",
      "metadata": {
        "id": "PRVtoeSbQArL"
      },
      "source": [
        "Em Python temos, basicamente, 2 tipos de variáveis: \n",
        "* Integer (int)\n",
        "* Float (float)\n",
        "* Strings (str)\n",
        "* Booleanos (bool)"
      ]
    },
    {
      "cell_type": "code",
      "metadata": {
        "id": "l44hcZBpQArO"
      },
      "source": [
        ""
      ],
      "execution_count": null,
      "outputs": []
    },
    {
      "cell_type": "code",
      "metadata": {
        "id": "57T_xCW_QArR"
      },
      "source": [
        ""
      ],
      "execution_count": null,
      "outputs": []
    },
    {
      "cell_type": "code",
      "metadata": {
        "id": "InqJ9GH3QArU"
      },
      "source": [
        ""
      ],
      "execution_count": null,
      "outputs": []
    },
    {
      "cell_type": "code",
      "metadata": {
        "id": "Pu7Q2dpYQArX"
      },
      "source": [
        ""
      ],
      "execution_count": null,
      "outputs": []
    },
    {
      "cell_type": "markdown",
      "metadata": {
        "id": "2XkMCAKkQAra"
      },
      "source": [
        "## Operações Matemáticas"
      ]
    },
    {
      "cell_type": "markdown",
      "metadata": {
        "id": "W-qZ62mgQArb"
      },
      "source": [
        "**Ordem de execução**\n",
        "* Parênteses\n",
        "* Multiplicação e Divisão\n",
        "* Adição e Subtração"
      ]
    },
    {
      "cell_type": "markdown",
      "metadata": {
        "id": "UUJkr0G-QArb"
      },
      "source": [
        "Com Python podemos realizar operações matemáticas. Com o uso das variáveis isso fica ainda mais poderoso."
      ]
    },
    {
      "cell_type": "code",
      "metadata": {
        "id": "LW9lkZnVQArc"
      },
      "source": [
        ""
      ],
      "execution_count": null,
      "outputs": []
    },
    {
      "cell_type": "code",
      "metadata": {
        "id": "1UGVlWUhQArg"
      },
      "source": [
        ""
      ],
      "execution_count": null,
      "outputs": []
    },
    {
      "cell_type": "markdown",
      "metadata": {
        "id": "um_jKE9eQArl"
      },
      "source": [
        "**Área do Círculo**\n",
        "\n"
      ]
    },
    {
      "cell_type": "markdown",
      "metadata": {
        "id": "iLbiiuWzQArl"
      },
      "source": [
        "<img src=\"https://www.onlinemathlearning.com/image-files/area-of-circle.png\" height=350 width=250>"
      ]
    },
    {
      "cell_type": "code",
      "metadata": {
        "id": "DHgy_gpkQArm"
      },
      "source": [
        ""
      ],
      "execution_count": null,
      "outputs": []
    },
    {
      "cell_type": "code",
      "metadata": {
        "id": "xcU4kEnEQAro"
      },
      "source": [
        ""
      ],
      "execution_count": null,
      "outputs": []
    },
    {
      "cell_type": "code",
      "metadata": {
        "id": "_uX7sFsmQArr"
      },
      "source": [
        ""
      ],
      "execution_count": null,
      "outputs": []
    },
    {
      "cell_type": "code",
      "metadata": {
        "id": "fbwcxMhOQArv"
      },
      "source": [
        ""
      ],
      "execution_count": null,
      "outputs": []
    },
    {
      "cell_type": "code",
      "metadata": {
        "id": "AqNfIfokQArz"
      },
      "source": [
        ""
      ],
      "execution_count": null,
      "outputs": []
    },
    {
      "cell_type": "markdown",
      "metadata": {
        "id": "lyp4cUOzQAr2"
      },
      "source": [
        "## Strings"
      ]
    },
    {
      "cell_type": "markdown",
      "metadata": {
        "id": "u7E2x5ofQAr2"
      },
      "source": [
        "Variáveis podem ser caracteres ou um conjunto deles (palavras e até frases inteiras)."
      ]
    },
    {
      "cell_type": "code",
      "metadata": {
        "id": "ZiaropopQAr3"
      },
      "source": [
        ""
      ],
      "execution_count": null,
      "outputs": []
    },
    {
      "cell_type": "code",
      "metadata": {
        "id": "RQA_kXsvQAr7"
      },
      "source": [
        ""
      ],
      "execution_count": null,
      "outputs": []
    },
    {
      "cell_type": "code",
      "metadata": {
        "id": "Bq7UIWJ-QAsB"
      },
      "source": [
        ""
      ],
      "execution_count": null,
      "outputs": []
    },
    {
      "cell_type": "markdown",
      "metadata": {
        "id": "U6VpKINtQAsF"
      },
      "source": [
        "Podemos fazer um fatiamento nas strings, selecionando apenas a parte que nos interessa."
      ]
    },
    {
      "cell_type": "markdown",
      "metadata": {
        "id": "o12DIwqgQAsG"
      },
      "source": [
        "**OBS**: O Python começa a contar do 0 e o último número não é incluído no fatiamento."
      ]
    },
    {
      "cell_type": "code",
      "metadata": {
        "id": "1KGJ7GWwQAsG"
      },
      "source": [
        ""
      ],
      "execution_count": null,
      "outputs": []
    },
    {
      "cell_type": "code",
      "metadata": {
        "id": "p4vq3lpnQAsJ"
      },
      "source": [
        ""
      ],
      "execution_count": null,
      "outputs": []
    },
    {
      "cell_type": "markdown",
      "metadata": {
        "id": "DB3DNQxuQAsL"
      },
      "source": [
        "## Prints\n",
        "\n"
      ]
    },
    {
      "cell_type": "code",
      "metadata": {
        "id": "HjQSq2fkQAsM"
      },
      "source": [
        ""
      ],
      "execution_count": null,
      "outputs": []
    },
    {
      "cell_type": "code",
      "metadata": {
        "id": "DDOLQf3SQAsQ"
      },
      "source": [
        ""
      ],
      "execution_count": null,
      "outputs": []
    },
    {
      "cell_type": "code",
      "metadata": {
        "id": "UCFA-5aZQAsX"
      },
      "source": [
        ""
      ],
      "execution_count": null,
      "outputs": []
    },
    {
      "cell_type": "markdown",
      "metadata": {
        "id": "yIBCAsILQAsZ"
      },
      "source": [
        "## Inputs"
      ]
    },
    {
      "cell_type": "markdown",
      "metadata": {
        "id": "R_n21BorQAsa"
      },
      "source": [
        "Às vezes, precisamos que o nosso dado venha de fora, ou seja, alguém, ou algum sistema precisa nos transmitir essa informação.\n",
        "Uma das formas de interagir com um usuário é por meio do comando ```input```."
      ]
    },
    {
      "cell_type": "code",
      "metadata": {
        "id": "Ndf3eNoOQAsa"
      },
      "source": [
        ""
      ],
      "execution_count": null,
      "outputs": []
    },
    {
      "cell_type": "markdown",
      "metadata": {
        "id": "CpyWgqiFQAsd"
      },
      "source": [
        "## Comparadores e Operadores Lógicos"
      ]
    },
    {
      "cell_type": "markdown",
      "metadata": {
        "id": "L6gsYbLAQAsd"
      },
      "source": [
        "Usamos os comparadores para comparar os valores de diferentes variáveis e os operadores lógicos para checar se uma determinada condição é verdadeira ou falsa."
      ]
    },
    {
      "cell_type": "code",
      "metadata": {
        "id": "zr7RXDZEyDGW"
      },
      "source": [
        "**Operadores mais importantes:**\n",
        "\n",
        "* A == B  (vamos verificar se A é igual a B)\n",
        "* A > B (vamos verificar se A é maior que B)\n",
        "* A < B (vamos verificar se B é maior que A)\n",
        "* A >= B (vamos verificar se A é maior ou igual a B)\n",
        "* A != B (Vamos verificar se A é diferente de B)"
      ],
      "execution_count": null,
      "outputs": []
    },
    {
      "cell_type": "code",
      "metadata": {
        "id": "ieZf2oMtQAsi"
      },
      "source": [
        ""
      ],
      "execution_count": null,
      "outputs": []
    },
    {
      "cell_type": "code",
      "metadata": {
        "id": "goNDu6oWQAsl"
      },
      "source": [
        ""
      ],
      "execution_count": null,
      "outputs": []
    },
    {
      "cell_type": "code",
      "metadata": {
        "id": "CczhZwsHQAso"
      },
      "source": [
        ""
      ],
      "execution_count": null,
      "outputs": []
    },
    {
      "cell_type": "code",
      "metadata": {
        "id": "XqE1OwczQAsq"
      },
      "source": [
        ""
      ],
      "execution_count": null,
      "outputs": []
    },
    {
      "cell_type": "code",
      "metadata": {
        "id": "OISa_fGWQAst"
      },
      "source": [
        ""
      ],
      "execution_count": null,
      "outputs": []
    },
    {
      "cell_type": "code",
      "metadata": {
        "id": "DE0rbyLTQAs0"
      },
      "source": [
        ""
      ],
      "execution_count": null,
      "outputs": []
    },
    {
      "cell_type": "code",
      "metadata": {
        "id": "7D9zJ6vDQAs6"
      },
      "source": [
        ""
      ],
      "execution_count": null,
      "outputs": []
    },
    {
      "cell_type": "markdown",
      "metadata": {
        "id": "p-zG0jfrQAs-"
      },
      "source": [
        "**Combinando comparações por meio de operadores lógicos.**\n"
      ]
    },
    {
      "cell_type": "code",
      "metadata": {
        "id": "6Y_JQN1cQAs_"
      },
      "source": [
        ""
      ],
      "execution_count": null,
      "outputs": []
    },
    {
      "cell_type": "markdown",
      "metadata": {
        "id": "7wC_yBGxQAtG"
      },
      "source": [
        "Quando usamos ```AND``` com comparações, esperamos que todas sejam verdadeiras. "
      ]
    },
    {
      "cell_type": "code",
      "metadata": {
        "id": "pBz8mPY7QAtJ"
      },
      "source": [
        ""
      ],
      "execution_count": null,
      "outputs": []
    },
    {
      "cell_type": "markdown",
      "metadata": {
        "id": "MOygHhQWQAtM"
      },
      "source": [
        "Nesse caso, idade1 é maior que idade 2, mas idade1 não é menor que idade3."
      ]
    },
    {
      "cell_type": "markdown",
      "metadata": {
        "id": "kyZSrFQiQAtN"
      },
      "source": [
        "Quando usamos o ```OR```, precisamos que pelo menos uma condição seja verdadeira."
      ]
    },
    {
      "cell_type": "code",
      "metadata": {
        "id": "P3I5WsxXQAtO"
      },
      "source": [
        ""
      ],
      "execution_count": null,
      "outputs": []
    },
    {
      "cell_type": "markdown",
      "metadata": {
        "id": "xkYU85kmQAtU"
      },
      "source": [
        "Nesse caso, idade1 > idade2, ou seja, já é suficiente para a comparação inteira ser verdadeira."
      ]
    },
    {
      "cell_type": "markdown",
      "metadata": {
        "id": "xRx_1-otQAtU"
      },
      "source": [
        "## Estruturas Condicionais"
      ]
    },
    {
      "cell_type": "markdown",
      "metadata": {
        "id": "OpTuSCLPQAtV"
      },
      "source": [
        "Em algumas ocasiões necessitamos que algo aconteça, se uma determinada condição for atendida, ou algum evento aconteça."
      ]
    },
    {
      "cell_type": "markdown",
      "metadata": {
        "id": "F8StmJ32QAtV"
      },
      "source": [
        "```SE``` (condição):<br>\n",
        "```ENTAO``` (execute)<br>\n",
        "```CASO NÃO``` (execute)"
      ]
    },
    {
      "cell_type": "markdown",
      "metadata": {
        "id": "ZbIi9j-rQAtW"
      },
      "source": [
        "Por exemplo, imagine a média da nota de um aluno. Se a média for ```maior ou igual a 7```, ele é aprovado, caso contrário, ele é reprovado."
      ]
    },
    {
      "cell_type": "code",
      "metadata": {
        "id": "MTK0p9nZQAtW"
      },
      "source": [
        ""
      ],
      "execution_count": null,
      "outputs": []
    },
    {
      "cell_type": "markdown",
      "metadata": {
        "id": "KR5KNvGZQAta"
      },
      "source": [
        "**E se eu tiver mais de uma condição??**"
      ]
    },
    {
      "cell_type": "code",
      "metadata": {
        "id": "ow2iP4PQQAtb"
      },
      "source": [
        ""
      ],
      "execution_count": null,
      "outputs": []
    },
    {
      "cell_type": "markdown",
      "metadata": {
        "id": "0MRz9SbjQAte"
      },
      "source": [
        "## Loops"
      ]
    },
    {
      "cell_type": "markdown",
      "metadata": {
        "id": "2i8UkECKQAte"
      },
      "source": [
        "E Se precisarmos repetir determinada tarefa?\n",
        "Por exemplo: Precisamos avaliar se 1000 alunos foram aprovados, reprovados ou foram pra recuperação. Como você faria isso?"
      ]
    },
    {
      "cell_type": "markdown",
      "metadata": {
        "id": "j0_XjXVoQAtg"
      },
      "source": [
        "### For"
      ]
    },
    {
      "cell_type": "markdown",
      "metadata": {
        "id": "0KGd--MGQAth"
      },
      "source": [
        "O loop For é utilizado quando queremos repetir uma operação em um número finito de vezes.\n",
        "\n",
        "No loop, uma variável definida percorre uma sequência. A cada iteração o valor da variável é atualizado com o próximo valor da lista."
      ]
    },
    {
      "cell_type": "code",
      "metadata": {
        "id": "I6UVEzFUQAtj"
      },
      "source": [
        ""
      ],
      "execution_count": null,
      "outputs": []
    },
    {
      "cell_type": "code",
      "metadata": {
        "id": "H7jDwyPFQAto"
      },
      "source": [
        ""
      ],
      "execution_count": null,
      "outputs": []
    },
    {
      "cell_type": "markdown",
      "metadata": {
        "id": "3sUkLdAdQAtq"
      },
      "source": [
        "### While"
      ]
    },
    {
      "cell_type": "markdown",
      "metadata": {
        "id": "2Ma93HjNQAtq"
      },
      "source": [
        "O Loop While vai executar um comando baseado em uma condição. Se essa condição for verdadeira o loop roda uma iteração. No final de cada iteração, a condição é reavaliada. Caso ainda seja verdadeira, o loop continua, caso contrário ele é interrompido.\n"
      ]
    },
    {
      "cell_type": "code",
      "metadata": {
        "id": "yKvAuJ0ZQAtq"
      },
      "source": [
        ""
      ],
      "execution_count": null,
      "outputs": []
    },
    {
      "cell_type": "code",
      "metadata": {
        "id": "WU0P-OSQQAtu"
      },
      "source": [
        ""
      ],
      "execution_count": null,
      "outputs": []
    },
    {
      "cell_type": "markdown",
      "metadata": {
        "id": "oPQJ1cOaQAt3"
      },
      "source": [
        "# Estrutura de Dados"
      ]
    },
    {
      "cell_type": "markdown",
      "metadata": {
        "id": "9aMdiaMXQAt4"
      },
      "source": [
        "## Listas"
      ]
    },
    {
      "cell_type": "markdown",
      "metadata": {
        "id": "k9tGwY4PQAt4"
      },
      "source": [
        "Listas são sequências de números, caracteres ou strings, separados por vírgulas e entre colchetes. As listas podem conter um mix de tipos diferentes, ou seja, você pode criar uma lista contendo strings, bools e também numéricos, embora não seja uma boa prática."
      ]
    },
    {
      "cell_type": "code",
      "metadata": {
        "id": "I8HcVFZJQAt5"
      },
      "source": [
        ""
      ],
      "execution_count": null,
      "outputs": []
    },
    {
      "cell_type": "code",
      "metadata": {
        "id": "SxmabM1oQAt_"
      },
      "source": [
        ""
      ],
      "execution_count": null,
      "outputs": []
    },
    {
      "cell_type": "markdown",
      "metadata": {
        "id": "zIwhB8FVQAuF"
      },
      "source": [
        "Para acessar elementos de uma lista, basta indicar o índice desejado entre colchetes\n"
      ]
    },
    {
      "cell_type": "code",
      "metadata": {
        "id": "aL31phdcQAuH"
      },
      "source": [
        ""
      ],
      "execution_count": null,
      "outputs": []
    },
    {
      "cell_type": "code",
      "metadata": {
        "id": "kiGkG-bBQAuO"
      },
      "source": [
        ""
      ],
      "execution_count": null,
      "outputs": []
    },
    {
      "cell_type": "markdown",
      "metadata": {
        "id": "0UO0gP9fQAuS"
      },
      "source": [
        "Quando temos uma lista só com números, podemos realizar algumas operações."
      ]
    },
    {
      "cell_type": "code",
      "metadata": {
        "id": "wFgqRqUzQAuT"
      },
      "source": [
        ""
      ],
      "execution_count": null,
      "outputs": []
    },
    {
      "cell_type": "code",
      "metadata": {
        "id": "vEb5iKX2QAuX"
      },
      "source": [
        ""
      ],
      "execution_count": null,
      "outputs": []
    },
    {
      "cell_type": "code",
      "metadata": {
        "id": "WBD5E7T5QAua"
      },
      "source": [
        ""
      ],
      "execution_count": null,
      "outputs": []
    },
    {
      "cell_type": "code",
      "metadata": {
        "id": "BMdh1fiuQAuc"
      },
      "source": [
        ""
      ],
      "execution_count": null,
      "outputs": []
    },
    {
      "cell_type": "code",
      "metadata": {
        "id": "EUYfuAoGQAuf"
      },
      "source": [
        ""
      ],
      "execution_count": null,
      "outputs": []
    },
    {
      "cell_type": "markdown",
      "metadata": {
        "id": "v9R4z6ShQAuh"
      },
      "source": [
        "O método append adiciona o item no final da lista."
      ]
    },
    {
      "cell_type": "code",
      "metadata": {
        "id": "iXV5VVwaQAuh"
      },
      "source": [
        ""
      ],
      "execution_count": null,
      "outputs": []
    },
    {
      "cell_type": "code",
      "metadata": {
        "id": "m66KWKeaQAuj"
      },
      "source": [
        ""
      ],
      "execution_count": null,
      "outputs": []
    },
    {
      "cell_type": "code",
      "metadata": {
        "id": "h-MWBq-mQAun"
      },
      "source": [
        ""
      ],
      "execution_count": null,
      "outputs": []
    },
    {
      "cell_type": "code",
      "metadata": {
        "id": "0aDfjfVzQAuo"
      },
      "source": [
        ""
      ],
      "execution_count": null,
      "outputs": []
    },
    {
      "cell_type": "markdown",
      "metadata": {
        "id": "ng9nNMWcQAuq"
      },
      "source": [
        "Para mais comandos envolvendo listas e acesse: <a href=\"https://www.w3schools.com/python/python_ref_list.asp\">Clique Aqui <a/>"
      ]
    },
    {
      "cell_type": "markdown",
      "metadata": {
        "id": "mOTpb4xKQAuq"
      },
      "source": [
        "Listas são mutáveis. Ou seja, podemos adicionar, remover e modificar valores.\n",
        "\n"
      ]
    },
    {
      "cell_type": "code",
      "metadata": {
        "id": "_MFJvYxzQAur"
      },
      "source": [
        "lista1 = [1, 100, 23, 40, 23, 51 , 50, 39, 58] # retorna par \n",
        "lista2 = [2, 4, 5, 9, 11, 13, 154, 45, 23, 11] # retorna impar"
      ],
      "execution_count": null,
      "outputs": []
    },
    {
      "cell_type": "code",
      "metadata": {
        "id": "bzsn9QdiQAus",
        "colab": {
          "base_uri": "https://localhost:8080/",
          "height": 231
        },
        "outputId": "debf6830-ed3c-4614-fa9e-d5ab06810581"
      },
      "source": [
        "lista_par = []\n",
        "lista_impar = []\n",
        "lista3 = [lista1, lista2]\n",
        "for i in lista3:\n",
        "  if i % 2 == 0:\n",
        "    lista_par.append(i)\n",
        "  else:\n",
        "    lista_impar.append(i)\n",
        "print(f\"Lista par: {lista_par}\")\n",
        "\n",
        "lista_par.sort()\n",
        "lista_impar.sort()\n",
        "print(f\"Lista impar: {lista_impar}\")"
      ],
      "execution_count": null,
      "outputs": [
        {
          "output_type": "error",
          "ename": "TypeError",
          "evalue": "ignored",
          "traceback": [
            "\u001b[0;31m---------------------------------------------------------------------------\u001b[0m",
            "\u001b[0;31mTypeError\u001b[0m                                 Traceback (most recent call last)",
            "\u001b[0;32m<ipython-input-13-7e60a8b53a69>\u001b[0m in \u001b[0;36m<module>\u001b[0;34m()\u001b[0m\n\u001b[1;32m      3\u001b[0m \u001b[0mlista3\u001b[0m \u001b[0;34m=\u001b[0m \u001b[0;34m[\u001b[0m\u001b[0mlista1\u001b[0m\u001b[0;34m,\u001b[0m \u001b[0mlista2\u001b[0m\u001b[0;34m]\u001b[0m\u001b[0;34m\u001b[0m\u001b[0;34m\u001b[0m\u001b[0m\n\u001b[1;32m      4\u001b[0m \u001b[0;32mfor\u001b[0m \u001b[0mi\u001b[0m \u001b[0;32min\u001b[0m \u001b[0mlista3\u001b[0m\u001b[0;34m:\u001b[0m\u001b[0;34m\u001b[0m\u001b[0;34m\u001b[0m\u001b[0m\n\u001b[0;32m----> 5\u001b[0;31m   \u001b[0;32mif\u001b[0m \u001b[0mi\u001b[0m \u001b[0;34m%\u001b[0m \u001b[0;36m2\u001b[0m \u001b[0;34m==\u001b[0m \u001b[0;36m0\u001b[0m\u001b[0;34m:\u001b[0m\u001b[0;34m\u001b[0m\u001b[0;34m\u001b[0m\u001b[0m\n\u001b[0m\u001b[1;32m      6\u001b[0m     \u001b[0mlista_par\u001b[0m\u001b[0;34m.\u001b[0m\u001b[0mappend\u001b[0m\u001b[0;34m(\u001b[0m\u001b[0mi\u001b[0m\u001b[0;34m)\u001b[0m\u001b[0;34m\u001b[0m\u001b[0;34m\u001b[0m\u001b[0m\n\u001b[1;32m      7\u001b[0m   \u001b[0;32melse\u001b[0m\u001b[0;34m:\u001b[0m\u001b[0;34m\u001b[0m\u001b[0;34m\u001b[0m\u001b[0m\n",
            "\u001b[0;31mTypeError\u001b[0m: unsupported operand type(s) for %: 'list' and 'int'"
          ]
        }
      ]
    },
    {
      "cell_type": "code",
      "metadata": {
        "id": "WqvllpYggdAE"
      },
      "source": [
        "listapar = list(filter(lambda x: x%2 ==0, lista1))\n",
        "listaimpar = list(filter(lambda x: x%2 != 0, lista2))"
      ],
      "execution_count": null,
      "outputs": []
    },
    {
      "cell_type": "code",
      "metadata": {
        "id": "jWUM2amwhhBc",
        "colab": {
          "base_uri": "https://localhost:8080/",
          "height": 34
        },
        "outputId": "13f3499d-db22-4245-a6cc-67e693258402"
      },
      "source": [
        "[x for x in lista1 if x % 2 == 0]"
      ],
      "execution_count": null,
      "outputs": [
        {
          "output_type": "execute_result",
          "data": {
            "text/plain": [
              "[100, 40, 50, 58]"
            ]
          },
          "metadata": {
            "tags": []
          },
          "execution_count": 25
        }
      ]
    },
    {
      "cell_type": "markdown",
      "metadata": {
        "id": "k93rY37hQAuu"
      },
      "source": [
        "## Tuplas"
      ]
    },
    {
      "cell_type": "markdown",
      "metadata": {
        "id": "QoGwJCJUQAuu"
      },
      "source": [
        "Ao contrário de listas, tuplas são imutáveis, ou seja, uma vez definidas, não podemos alterá-las. Para definir uma tupla, usamos Parênteses."
      ]
    },
    {
      "cell_type": "code",
      "metadata": {
        "id": "4_q2_uK0QAuu"
      },
      "source": [
        ""
      ],
      "execution_count": null,
      "outputs": []
    },
    {
      "cell_type": "code",
      "metadata": {
        "id": "Wc5u8pELQAuz"
      },
      "source": [
        ""
      ],
      "execution_count": null,
      "outputs": []
    },
    {
      "cell_type": "code",
      "metadata": {
        "id": "n6oFSRrRQAu3"
      },
      "source": [
        ""
      ],
      "execution_count": null,
      "outputs": []
    },
    {
      "cell_type": "markdown",
      "metadata": {
        "id": "eE92_k6syDHP"
      },
      "source": [
        "**Desafio!**\n",
        "\n",
        "1. Vocês terão 15 minutos para essa tarefa \n",
        "2. Serão dadas duas listas e vocês terão que retornar da primeira lista somente os elementos pares e da segunda lista somente os lementos ímpares.\n",
        "    1. lista1 =  [1,100,23,40,23,51,50,39,58]\n",
        "    2. lista2 = [2,4,5,8,9,11,13,145,45,23,11]"
      ]
    },
    {
      "cell_type": "code",
      "metadata": {
        "id": "0OHuuzL3QAu5"
      },
      "source": [
        ""
      ],
      "execution_count": null,
      "outputs": []
    },
    {
      "cell_type": "markdown",
      "metadata": {
        "id": "_4vLqi7GyDHS"
      },
      "source": [
        "## Conjuntos"
      ]
    },
    {
      "cell_type": "markdown",
      "metadata": {
        "id": "pMrfv6sZQAu8"
      },
      "source": [
        "Conjuntos são estruturas de dados cujos elementos não se repetem. Podemos definí-los usando chaves."
      ]
    },
    {
      "cell_type": "code",
      "metadata": {
        "id": "50bSct7LQAu8"
      },
      "source": [
        ""
      ],
      "execution_count": null,
      "outputs": []
    },
    {
      "cell_type": "code",
      "metadata": {
        "id": "1Xi4NXggQAu_"
      },
      "source": [
        ""
      ],
      "execution_count": null,
      "outputs": []
    },
    {
      "cell_type": "code",
      "metadata": {
        "id": "DTZVnQjyQAvC"
      },
      "source": [
        ""
      ],
      "execution_count": null,
      "outputs": []
    },
    {
      "cell_type": "markdown",
      "metadata": {
        "id": "nIAfFwGIQAvE"
      },
      "source": [
        "**Atenção:** \n",
        "Note que tínhamos 2 marcos, um no conjunto 1 e outro no conjunto 2, agora só temos 1!\n",
        "Por que isso aconteceu?"
      ]
    },
    {
      "cell_type": "code",
      "metadata": {
        "id": "yYa3OHoJQAvE"
      },
      "source": [
        ""
      ],
      "execution_count": null,
      "outputs": []
    },
    {
      "cell_type": "markdown",
      "metadata": {
        "id": "VpGJT96fQAvM"
      },
      "source": [
        "Itens do conjunto 2 são removidos do conjunto 1."
      ]
    },
    {
      "cell_type": "code",
      "metadata": {
        "id": "VQD8WeQXQAvN"
      },
      "source": [
        ""
      ],
      "execution_count": null,
      "outputs": []
    },
    {
      "cell_type": "markdown",
      "metadata": {
        "id": "06LhauxeQAvU"
      },
      "source": [
        "Para mais comandos envolvendo conjuntos e acesse: <a href=\"https://www.w3schools.com/python/python_ref_set.asp\">Clique Aqui <a/>"
      ]
    },
    {
      "cell_type": "markdown",
      "metadata": {
        "id": "D7erRfL6QAvV"
      },
      "source": [
        "## Dicionários"
      ]
    },
    {
      "cell_type": "markdown",
      "metadata": {
        "id": "x_zoo0x7QAvZ"
      },
      "source": [
        "Dicionários são estruturas constituídas de chave-valor. Assim como os conjuntos, não são ordenados, mas são mutáveis Para consultar os dados informamos as chaves."
      ]
    },
    {
      "cell_type": "markdown",
      "metadata": {
        "id": "FQXsQEM5QAva"
      },
      "source": [
        "<img src=\"https://www.learnbyexample.org/wp-content/uploads/python/Dictionary-Key-Value-Pairs-Illustration.png\">"
      ]
    },
    {
      "cell_type": "markdown",
      "metadata": {
        "id": "ngTwU1PmQAve"
      },
      "source": [
        "Para definir um dicionário, o método mais simples é utilizando chaves. As chaves do dicionário ficam do lado esquerdo e o valor do lado direito."
      ]
    },
    {
      "cell_type": "code",
      "metadata": {
        "id": "lBTHIMEVQAvf"
      },
      "source": [
        ""
      ],
      "execution_count": null,
      "outputs": []
    },
    {
      "cell_type": "code",
      "metadata": {
        "id": "DH23rEdGQAvk"
      },
      "source": [
        ""
      ],
      "execution_count": null,
      "outputs": []
    },
    {
      "cell_type": "code",
      "metadata": {
        "id": "NVIdxYd2QAvo"
      },
      "source": [
        ""
      ],
      "execution_count": null,
      "outputs": []
    },
    {
      "cell_type": "code",
      "metadata": {
        "id": "q5BLg7NLQAvs"
      },
      "source": [
        ""
      ],
      "execution_count": null,
      "outputs": []
    },
    {
      "cell_type": "code",
      "metadata": {
        "id": "-g1RVeGgQAvu"
      },
      "source": [
        ""
      ],
      "execution_count": null,
      "outputs": []
    },
    {
      "cell_type": "markdown",
      "metadata": {
        "id": "P25gvoqvyDH3"
      },
      "source": [
        "**Desafio 2**\n",
        "1. Use o dicionário de notas e retorne o nome dos alunos que irão ser aprovados, reprovados e os que vão ficar de recuperação!"
      ]
    },
    {
      "cell_type": "code",
      "metadata": {
        "id": "ZoIOgC2zQAvy"
      },
      "source": [
        "notas_alunos = {\n",
        "                \"Bruno\":4.5, \n",
        "                \"Mauricio\":8.7,\n",
        "                \"Jéssica\":6.5,\n",
        "                \"Maria\":7.4 \n",
        "                }"
      ],
      "execution_count": null,
      "outputs": []
    },
    {
      "cell_type": "code",
      "metadata": {
        "id": "PEByPKVVQAvz",
        "colab": {
          "base_uri": "https://localhost:8080/",
          "height": 34
        },
        "outputId": "82bbd502-04cd-43be-d589-f4bb98903307"
      },
      "source": [
        "aprovados =  []\n",
        "reprovados = []\n",
        "recuperacao = []\n",
        "\n",
        "#{ notas_alunos if values == 7: recuperacao.append(key) elif values > 7: aprovados.append(key) else reporvados.append(key) for key, value in notas_alunos.items() }}\n",
        "\n",
        "print(f\"Lista de aprovados: {aprovados}, Lista de reprovados : {reprovados}, Lista de recuperação: {recuperacao}\")"
      ],
      "execution_count": null,
      "outputs": [
        {
          "output_type": "stream",
          "text": [
            "Lista de aprovados: [], Lista de reprovados : [], Lista de recuperação: []\n"
          ],
          "name": "stdout"
        }
      ]
    },
    {
      "cell_type": "code",
      "metadata": {
        "id": "mpUA4UM9QAv1",
        "colab": {
          "base_uri": "https://localhost:8080/",
          "height": 231
        },
        "outputId": "d68b0f2d-bec4-464f-fae9-7e6c60159330"
      },
      "source": [
        "\n",
        "\n",
        "\n",
        "for i in notas_alunos(values):\n",
        "    if i == 7:\n",
        "      recuperacao.append(key)\n",
        "    elif i > 7:\n",
        "      aprovados.append(key)\n",
        "    else:\n",
        "      reprovados.append(key)\n",
        "print(f\"Lista de aprovados: {aprovados}, Lista de reprovados : {reprovados}, Lista de recuperação: {recuperacao}\")\n",
        "        "
      ],
      "execution_count": null,
      "outputs": [
        {
          "output_type": "error",
          "ename": "NameError",
          "evalue": "ignored",
          "traceback": [
            "\u001b[0;31m---------------------------------------------------------------------------\u001b[0m",
            "\u001b[0;31mNameError\u001b[0m                                 Traceback (most recent call last)",
            "\u001b[0;32m<ipython-input-17-795f43b06b3f>\u001b[0m in \u001b[0;36m<module>\u001b[0;34m()\u001b[0m\n\u001b[1;32m      2\u001b[0m \u001b[0;34m\u001b[0m\u001b[0m\n\u001b[1;32m      3\u001b[0m \u001b[0;34m\u001b[0m\u001b[0m\n\u001b[0;32m----> 4\u001b[0;31m \u001b[0;32mfor\u001b[0m \u001b[0mi\u001b[0m \u001b[0;32min\u001b[0m  \u001b[0mnotas_alunos\u001b[0m\u001b[0;34m(\u001b[0m\u001b[0mvalues\u001b[0m\u001b[0;34m)\u001b[0m\u001b[0;34m:\u001b[0m\u001b[0;34m\u001b[0m\u001b[0;34m\u001b[0m\u001b[0m\n\u001b[0m\u001b[1;32m      5\u001b[0m     \u001b[0;32mif\u001b[0m \u001b[0mi\u001b[0m \u001b[0;34m==\u001b[0m \u001b[0;36m7\u001b[0m\u001b[0;34m:\u001b[0m\u001b[0;34m\u001b[0m\u001b[0;34m\u001b[0m\u001b[0m\n\u001b[1;32m      6\u001b[0m       \u001b[0mrecuperacao\u001b[0m\u001b[0;34m.\u001b[0m\u001b[0mappend\u001b[0m\u001b[0;34m(\u001b[0m\u001b[0mkey\u001b[0m\u001b[0;34m)\u001b[0m\u001b[0;34m\u001b[0m\u001b[0;34m\u001b[0m\u001b[0m\n",
            "\u001b[0;31mNameError\u001b[0m: name 'values' is not defined"
          ]
        }
      ]
    },
    {
      "cell_type": "code",
      "metadata": {
        "id": "vI8ABEtkQAv5"
      },
      "source": [
        ""
      ],
      "execution_count": null,
      "outputs": []
    }
  ]
}