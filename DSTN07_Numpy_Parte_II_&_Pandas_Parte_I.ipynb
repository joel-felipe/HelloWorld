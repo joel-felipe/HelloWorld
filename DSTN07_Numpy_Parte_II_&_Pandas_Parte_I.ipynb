{
  "nbformat": 4,
  "nbformat_minor": 0,
  "metadata": {
    "colab": {
      "name": "DSTN07 - Numpy - Parte II & Pandas Parte I.ipynb",
      "provenance": [],
      "include_colab_link": true
    },
    "kernelspec": {
      "display_name": "Python 3",
      "language": "python",
      "name": "python3"
    },
    "language_info": {
      "codemirror_mode": {
        "name": "ipython",
        "version": 3
      },
      "file_extension": ".py",
      "mimetype": "text/x-python",
      "name": "python",
      "nbconvert_exporter": "python",
      "pygments_lexer": "ipython3",
      "version": "3.8.3"
    },
    "toc": {
      "base_numbering": 1,
      "nav_menu": {},
      "number_sections": true,
      "sideBar": true,
      "skip_h1_title": false,
      "title_cell": "Table of Contents",
      "title_sidebar": "Contents",
      "toc_cell": false,
      "toc_position": {
        "height": "calc(100% - 180px)",
        "left": "10px",
        "top": "150px",
        "width": "252px"
      },
      "toc_section_display": true,
      "toc_window_display": true
    }
  },
  "cells": [
    {
      "cell_type": "markdown",
      "metadata": {
        "id": "view-in-github",
        "colab_type": "text"
      },
      "source": [
        "<a href=\"https://colab.research.google.com/github/joel8716/HelloWorld/blob/master/DSTN07_Numpy_Parte_II_%26_Pandas_Parte_I.ipynb\" target=\"_parent\"><img src=\"https://colab.research.google.com/assets/colab-badge.svg\" alt=\"Open In Colab\"/></a>"
      ]
    },
    {
      "cell_type": "markdown",
      "metadata": {
        "id": "3QnfuXFfAW1P"
      },
      "source": [
        "# Agenda"
      ]
    },
    {
      "cell_type": "markdown",
      "metadata": {
        "id": "sPSiJl_aAW1T"
      },
      "source": [
        "> Data: 18/09/2020<br>\n",
        "> Aula: 04 <br>\n",
        "> Módulo: 00 <br>\n",
        "> Instrutores: Bruno Vieira e Maurício Nascimento<br>\n",
        "> Turma: DSTN07"
      ]
    },
    {
      "cell_type": "markdown",
      "metadata": {
        "id": "kmGYEo-9AW1U"
      },
      "source": [
        "O objetivo dessa aula é introduzir a biblioteca Numpy.\n"
      ]
    },
    {
      "cell_type": "markdown",
      "metadata": {
        "id": "pH7mCu3lAW1V"
      },
      "source": [
        "**Tópicos**:\n",
        "* Numpy:\n",
        " - Funções básicas (np.mean, np.std, np.linspace, np.arange, np.random.choice, np.random.int, np.random.rand, np.where)\n",
        " - Concatenação de Arrays\n",
        " - Operações entre Arrays\n",
        "* Pandas:\n",
        " - Series vs Numpy Arrays\n",
        " - Inicialização de Series\n",
        " - Operações Básicas com Series\n",
        " - Concatenação de Series"
      ]
    },
    {
      "cell_type": "code",
      "metadata": {
        "id": "zjWjMrfYAW1W"
      },
      "source": [
        "import numpy as np\n",
        "import pandas as pd"
      ],
      "execution_count": null,
      "outputs": []
    },
    {
      "cell_type": "markdown",
      "metadata": {
        "id": "rcnMTcMnAW1X"
      },
      "source": [
        "# Numpy (Parte II)"
      ]
    },
    {
      "cell_type": "markdown",
      "metadata": {
        "id": "MGQEr92zAW1Y"
      },
      "source": [
        "## Funções Básicas"
      ]
    },
    {
      "cell_type": "markdown",
      "metadata": {
        "id": "Hz9KMlICAW1a"
      },
      "source": [
        "O Numpy possui algumas funções e submódulos que auxiliam o dia a dia do cientista."
      ]
    },
    {
      "cell_type": "code",
      "metadata": {
        "id": "79fT3el3AW1b"
      },
      "source": [
        ""
      ],
      "execution_count": null,
      "outputs": []
    },
    {
      "cell_type": "code",
      "metadata": {
        "id": "4I66stzyAW1c"
      },
      "source": [
        ""
      ],
      "execution_count": null,
      "outputs": []
    },
    {
      "cell_type": "markdown",
      "metadata": {
        "id": "1G-sBnAsAW1d"
      },
      "source": [
        "O np.arange cria um vetor espaçado entre dois números."
      ]
    },
    {
      "cell_type": "code",
      "metadata": {
        "id": "Jq1725MPAW1d"
      },
      "source": [
        ""
      ],
      "execution_count": null,
      "outputs": []
    },
    {
      "cell_type": "markdown",
      "metadata": {
        "id": "Cmlaz8DYAW1e"
      },
      "source": [
        "np.linspace gera um array de n números entre dois valores."
      ]
    },
    {
      "cell_type": "code",
      "metadata": {
        "id": "L6-_TnrGAW1e"
      },
      "source": [
        ""
      ],
      "execution_count": null,
      "outputs": []
    },
    {
      "cell_type": "code",
      "metadata": {
        "id": "7-g-bSEuAW1f"
      },
      "source": [
        ""
      ],
      "execution_count": null,
      "outputs": []
    },
    {
      "cell_type": "code",
      "metadata": {
        "id": "7Ypa0aG3AW1f"
      },
      "source": [
        ""
      ],
      "execution_count": null,
      "outputs": []
    },
    {
      "cell_type": "code",
      "metadata": {
        "id": "XMatf0QFAW1g"
      },
      "source": [
        ""
      ],
      "execution_count": null,
      "outputs": []
    },
    {
      "cell_type": "markdown",
      "metadata": {
        "id": "mIdo8SdRAW1g"
      },
      "source": [
        "O submódulo random do numpy pode ser utilizado para gerar números aleatórios, selecionar e embaralhar números."
      ]
    },
    {
      "cell_type": "code",
      "metadata": {
        "id": "KNgTbNc4AW1g"
      },
      "source": [
        ""
      ],
      "execution_count": null,
      "outputs": []
    },
    {
      "cell_type": "code",
      "metadata": {
        "id": "XnAzWxYMAW1h"
      },
      "source": [
        ""
      ],
      "execution_count": null,
      "outputs": []
    },
    {
      "cell_type": "code",
      "metadata": {
        "id": "aUbzv0VIAW1h"
      },
      "source": [
        ""
      ],
      "execution_count": null,
      "outputs": []
    },
    {
      "cell_type": "markdown",
      "metadata": {
        "id": "MrlC9yv-AW1h"
      },
      "source": [
        "## Concatenação Arrays"
      ]
    },
    {
      "cell_type": "markdown",
      "metadata": {
        "id": "-Ab6qtkUAW1i"
      },
      "source": [
        "Podemos unir 2 ou mais arrays, lateralmente ou verticalmente."
      ]
    },
    {
      "cell_type": "code",
      "metadata": {
        "id": "sYS9ZSbyAW1i"
      },
      "source": [
        ""
      ],
      "execution_count": null,
      "outputs": []
    },
    {
      "cell_type": "code",
      "metadata": {
        "id": "z4ZNe0BTAW1i"
      },
      "source": [
        ""
      ],
      "execution_count": null,
      "outputs": []
    },
    {
      "cell_type": "code",
      "metadata": {
        "id": "LgdGc5L_AW1i"
      },
      "source": [
        ""
      ],
      "execution_count": null,
      "outputs": []
    },
    {
      "cell_type": "code",
      "metadata": {
        "id": "aNER8Pn0AW1j"
      },
      "source": [
        ""
      ],
      "execution_count": null,
      "outputs": []
    },
    {
      "cell_type": "code",
      "metadata": {
        "id": "WU4XzEz-AW1j"
      },
      "source": [
        ""
      ],
      "execution_count": null,
      "outputs": []
    },
    {
      "cell_type": "code",
      "metadata": {
        "id": "GhK0bP_IAW1j"
      },
      "source": [
        ""
      ],
      "execution_count": null,
      "outputs": []
    },
    {
      "cell_type": "code",
      "metadata": {
        "id": "uKZ-HvmOAW1j"
      },
      "source": [
        ""
      ],
      "execution_count": null,
      "outputs": []
    },
    {
      "cell_type": "code",
      "metadata": {
        "id": "qpHOALaAAW1k"
      },
      "source": [
        ""
      ],
      "execution_count": null,
      "outputs": []
    },
    {
      "cell_type": "markdown",
      "metadata": {
        "id": "AADBOzLSAW1k"
      },
      "source": [
        "## Operaçõe entre Arrays"
      ]
    },
    {
      "cell_type": "code",
      "metadata": {
        "id": "jDfqWcpZAW1k"
      },
      "source": [
        ""
      ],
      "execution_count": null,
      "outputs": []
    },
    {
      "cell_type": "code",
      "metadata": {
        "id": "ckyHYyxUAW1k"
      },
      "source": [
        ""
      ],
      "execution_count": null,
      "outputs": []
    },
    {
      "cell_type": "code",
      "metadata": {
        "id": "CjR6fJEeAW1l"
      },
      "source": [
        ""
      ],
      "execution_count": null,
      "outputs": []
    },
    {
      "cell_type": "code",
      "metadata": {
        "id": "3Zly5oHnAW1l"
      },
      "source": [
        ""
      ],
      "execution_count": null,
      "outputs": []
    },
    {
      "cell_type": "code",
      "metadata": {
        "id": "IXT6zMvXAW1l"
      },
      "source": [
        ""
      ],
      "execution_count": null,
      "outputs": []
    },
    {
      "cell_type": "code",
      "metadata": {
        "id": "9v5op09pAW1l"
      },
      "source": [
        ""
      ],
      "execution_count": null,
      "outputs": []
    },
    {
      "cell_type": "markdown",
      "metadata": {
        "id": "FQP8lGvrAW1m"
      },
      "source": [
        "# Pandas (Parte I)"
      ]
    },
    {
      "cell_type": "markdown",
      "metadata": {
        "id": "cDHxl5ApAW1m"
      },
      "source": [
        "A Series é o objeto base do Pandas, assim como o array é o do numpy."
      ]
    },
    {
      "cell_type": "markdown",
      "metadata": {
        "id": "5sF2Fi7eAW1m"
      },
      "source": [
        "* Três estruturas importantes:\n",
        "    + `Series`\n",
        "    + `DataFrame`\n",
        "    + `Index`"
      ]
    },
    {
      "cell_type": "markdown",
      "metadata": {
        "id": "BJMpbl0BAW1n"
      },
      "source": [
        "## Series vs Numpy"
      ]
    },
    {
      "cell_type": "markdown",
      "metadata": {
        "id": "uhQc_acLAW1n"
      },
      "source": [
        "* Visualização\n",
        "* Índice"
      ]
    },
    {
      "cell_type": "code",
      "metadata": {
        "id": "zXRK6LUKAW1n"
      },
      "source": [
        ""
      ],
      "execution_count": null,
      "outputs": []
    },
    {
      "cell_type": "code",
      "metadata": {
        "id": "GMl3yQlrAW1o"
      },
      "source": [
        ""
      ],
      "execution_count": null,
      "outputs": []
    },
    {
      "cell_type": "markdown",
      "metadata": {
        "id": "gH37nknNAW1o"
      },
      "source": [
        "Numpy nos traz um formato horizontal (1D). As Series são Colunas."
      ]
    },
    {
      "cell_type": "markdown",
      "metadata": {
        "id": "U8lYAWRTAW1o"
      },
      "source": [
        "* **Índice**"
      ]
    },
    {
      "cell_type": "markdown",
      "metadata": {
        "id": "uLKOH8D8AW1o"
      },
      "source": [
        "No Numpy os arrays possuem índices numéricos (0, 1, 2, 3). No Pandas os índices podem ser numéricos e também strings.\n",
        "\n"
      ]
    },
    {
      "cell_type": "code",
      "metadata": {
        "id": "Hv4BQyBuAW1p"
      },
      "source": [
        ""
      ],
      "execution_count": null,
      "outputs": []
    },
    {
      "cell_type": "code",
      "metadata": {
        "id": "D8x6prjyAW1p"
      },
      "source": [
        ""
      ],
      "execution_count": null,
      "outputs": []
    },
    {
      "cell_type": "code",
      "metadata": {
        "id": "n_kW8cnkAW1p"
      },
      "source": [
        ""
      ],
      "execution_count": null,
      "outputs": []
    },
    {
      "cell_type": "markdown",
      "metadata": {
        "id": "4Xim4sUqAW1q"
      },
      "source": [
        "Podemos acessar o dado como fazíamos nas listas e arrays, por meio do índice."
      ]
    },
    {
      "cell_type": "code",
      "metadata": {
        "id": "MSzCCbNTAW1q"
      },
      "source": [
        ""
      ],
      "execution_count": null,
      "outputs": []
    },
    {
      "cell_type": "code",
      "metadata": {
        "id": "G8IJ-bsxAW1q"
      },
      "source": [
        ""
      ],
      "execution_count": null,
      "outputs": []
    },
    {
      "cell_type": "code",
      "metadata": {
        "id": "cUbP0UKxAW1q"
      },
      "source": [
        ""
      ],
      "execution_count": null,
      "outputs": []
    },
    {
      "cell_type": "markdown",
      "metadata": {
        "id": "jNvwfK3vAW1r"
      },
      "source": [
        "Podemos acessar seus valores\n",
        "\n"
      ]
    },
    {
      "cell_type": "code",
      "metadata": {
        "id": "KJ_F1drKAW1r"
      },
      "source": [
        ""
      ],
      "execution_count": null,
      "outputs": []
    },
    {
      "cell_type": "code",
      "metadata": {
        "id": "l7ZW2mydAW1r"
      },
      "source": [
        ""
      ],
      "execution_count": null,
      "outputs": []
    },
    {
      "cell_type": "markdown",
      "metadata": {
        "id": "52t_ECgcAW1r"
      },
      "source": [
        "Podemos acessar seus índices"
      ]
    },
    {
      "cell_type": "code",
      "metadata": {
        "id": "UC7azGcZAW1s"
      },
      "source": [
        ""
      ],
      "execution_count": null,
      "outputs": []
    },
    {
      "cell_type": "markdown",
      "metadata": {
        "id": "KDd-pL61AW1s"
      },
      "source": [
        "## Inicialização de Series"
      ]
    },
    {
      "cell_type": "markdown",
      "metadata": {
        "id": "KPNqUDraAW1s"
      },
      "source": [
        "* Podemos construir `Series` partindo do zero. A forma geral de fazer isso é a seguinte:\n",
        "\n",
        "```python\n",
        "pd.Series(data, index = index)\n",
        "```\n",
        "* `index` é um argumento opcional e `data` pode ser várias coisas"
      ]
    },
    {
      "cell_type": "code",
      "metadata": {
        "id": "RcyXjui8AW1t"
      },
      "source": [
        ""
      ],
      "execution_count": null,
      "outputs": []
    },
    {
      "cell_type": "code",
      "metadata": {
        "id": "rL81KKUfAW1t"
      },
      "source": [
        ""
      ],
      "execution_count": null,
      "outputs": []
    },
    {
      "cell_type": "code",
      "metadata": {
        "id": "qn5vXqpAAW1t"
      },
      "source": [
        ""
      ],
      "execution_count": null,
      "outputs": []
    },
    {
      "cell_type": "markdown",
      "metadata": {
        "id": "CI6dOPTSAW1t"
      },
      "source": [
        "## Operações Básicas Com Series"
      ]
    },
    {
      "cell_type": "code",
      "metadata": {
        "id": "XN4_h6M6AW1u"
      },
      "source": [
        ""
      ],
      "execution_count": null,
      "outputs": []
    },
    {
      "cell_type": "code",
      "metadata": {
        "id": "oFZRk5ugAW1u"
      },
      "source": [
        ""
      ],
      "execution_count": null,
      "outputs": []
    },
    {
      "cell_type": "code",
      "metadata": {
        "id": "1jqa9RivAW1u"
      },
      "source": [
        ""
      ],
      "execution_count": null,
      "outputs": []
    },
    {
      "cell_type": "code",
      "metadata": {
        "id": "yYjmBwmBAW1u"
      },
      "source": [
        ""
      ],
      "execution_count": null,
      "outputs": []
    },
    {
      "cell_type": "code",
      "metadata": {
        "id": "U5mOyMbgAW1u"
      },
      "source": [
        ""
      ],
      "execution_count": null,
      "outputs": []
    },
    {
      "cell_type": "code",
      "metadata": {
        "id": "hvBT9DGkAW1v"
      },
      "source": [
        ""
      ],
      "execution_count": null,
      "outputs": []
    },
    {
      "cell_type": "markdown",
      "metadata": {
        "id": "bC2hnt3kAW1v"
      },
      "source": [
        "O que é NaN ?"
      ]
    },
    {
      "cell_type": "markdown",
      "metadata": {
        "id": "mWp2beZJAW1v"
      },
      "source": [
        "Todas as operações são baseadas nos índices."
      ]
    },
    {
      "cell_type": "code",
      "metadata": {
        "id": "HoIsZbzYAW1w"
      },
      "source": [
        ""
      ],
      "execution_count": null,
      "outputs": []
    },
    {
      "cell_type": "markdown",
      "metadata": {
        "id": "3rKiLM0FAW1w"
      },
      "source": [
        "o Filtro é como se estivéssemos comparando elemento por elemento e fazendo a comparação desejada."
      ]
    },
    {
      "cell_type": "code",
      "metadata": {
        "id": "u0I3nOsVAW1w"
      },
      "source": [
        ""
      ],
      "execution_count": null,
      "outputs": []
    },
    {
      "cell_type": "code",
      "metadata": {
        "id": "z8J0kCSeAW1w"
      },
      "source": [
        ""
      ],
      "execution_count": null,
      "outputs": []
    },
    {
      "cell_type": "code",
      "metadata": {
        "id": "-2XoBJK9AW1x"
      },
      "source": [
        ""
      ],
      "execution_count": null,
      "outputs": []
    },
    {
      "cell_type": "code",
      "metadata": {
        "id": "1SghIqKcAW1z"
      },
      "source": [
        ""
      ],
      "execution_count": null,
      "outputs": []
    },
    {
      "cell_type": "markdown",
      "metadata": {
        "id": "oet4_MdzAW1z"
      },
      "source": [
        "O que ganhamos em relação aos dicionários?"
      ]
    },
    {
      "cell_type": "code",
      "metadata": {
        "id": "kaWr1Y33AW1z"
      },
      "source": [
        ""
      ],
      "execution_count": null,
      "outputs": []
    },
    {
      "cell_type": "code",
      "metadata": {
        "id": "3rdVlB_CAW10"
      },
      "source": [
        ""
      ],
      "execution_count": null,
      "outputs": []
    },
    {
      "cell_type": "code",
      "metadata": {
        "id": "eNOHfWeMAW10"
      },
      "source": [
        ""
      ],
      "execution_count": null,
      "outputs": []
    },
    {
      "cell_type": "markdown",
      "metadata": {
        "id": "dn4BeLbYAW10"
      },
      "source": [
        "E se quisermos criar um novo elemento com um novo índice?"
      ]
    },
    {
      "cell_type": "code",
      "metadata": {
        "id": "5G9BlKugAW10"
      },
      "source": [
        ""
      ],
      "execution_count": null,
      "outputs": []
    },
    {
      "cell_type": "code",
      "metadata": {
        "id": "PFQPXwd0AW11"
      },
      "source": [
        ""
      ],
      "execution_count": null,
      "outputs": []
    },
    {
      "cell_type": "code",
      "metadata": {
        "id": "pAEMTr2vAW11"
      },
      "source": [
        ""
      ],
      "execution_count": null,
      "outputs": []
    },
    {
      "cell_type": "code",
      "metadata": {
        "id": "H2_FvtglAW11"
      },
      "source": [
        ""
      ],
      "execution_count": null,
      "outputs": []
    },
    {
      "cell_type": "code",
      "metadata": {
        "id": "dRfwcj9CAW11"
      },
      "source": [
        ""
      ],
      "execution_count": null,
      "outputs": []
    },
    {
      "cell_type": "markdown",
      "metadata": {
        "id": "OssC2A65AW11"
      },
      "source": [
        "Podemos checar se o valor de uma series existe em outra series ou lista."
      ]
    },
    {
      "cell_type": "code",
      "metadata": {
        "id": "LejkL2ZtAW12"
      },
      "source": [
        ""
      ],
      "execution_count": null,
      "outputs": []
    },
    {
      "cell_type": "code",
      "metadata": {
        "id": "CYmzRur6AW12"
      },
      "source": [
        ""
      ],
      "execution_count": null,
      "outputs": []
    },
    {
      "cell_type": "code",
      "metadata": {
        "id": "ofc88FBiAW12"
      },
      "source": [
        ""
      ],
      "execution_count": null,
      "outputs": []
    },
    {
      "cell_type": "code",
      "metadata": {
        "id": "YGrtG3BqAW12"
      },
      "source": [
        ""
      ],
      "execution_count": null,
      "outputs": []
    },
    {
      "cell_type": "markdown",
      "metadata": {
        "id": "kvjbgSMbAW13"
      },
      "source": [
        "## Concatenação de Series"
      ]
    },
    {
      "cell_type": "code",
      "metadata": {
        "id": "rtvPTabKAW13"
      },
      "source": [
        ""
      ],
      "execution_count": null,
      "outputs": []
    },
    {
      "cell_type": "code",
      "metadata": {
        "id": "SpBIKW9LAW14"
      },
      "source": [
        ""
      ],
      "execution_count": null,
      "outputs": []
    },
    {
      "cell_type": "code",
      "metadata": {
        "id": "g0in6qYtAW14"
      },
      "source": [
        ""
      ],
      "execution_count": null,
      "outputs": []
    },
    {
      "cell_type": "code",
      "metadata": {
        "id": "2FWHo5BKAW14"
      },
      "source": [
        ""
      ],
      "execution_count": null,
      "outputs": []
    },
    {
      "cell_type": "markdown",
      "metadata": {
        "id": "CMz64RjxAW14"
      },
      "source": [
        "# Exercício:"
      ]
    },
    {
      "cell_type": "code",
      "metadata": {
        "id": "VfWE7hUoAW15"
      },
      "source": [
        "ser1 = pd.Series([1, 2, 3, 4, 5])\n",
        "ser2 = pd.Series([4, 5, 6, 7, 8])"
      ],
      "execution_count": null,
      "outputs": []
    },
    {
      "cell_type": "markdown",
      "metadata": {
        "id": "TSQAManuAW15"
      },
      "source": [
        "Trazer como 2 series os valores que estão em ser1 e não estão em ser2 e vice-versa."
      ]
    },
    {
      "cell_type": "code",
      "metadata": {
        "id": "a9dF7KbSAW15"
      },
      "source": [
        ""
      ],
      "execution_count": null,
      "outputs": []
    }
  ]
}