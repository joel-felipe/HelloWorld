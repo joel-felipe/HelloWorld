{
  "nbformat": 4,
  "nbformat_minor": 0,
  "metadata": {
    "colab": {
      "name": "DSTN07 - Numpy - Parte I- MATERIAL PROFESSOR .ipynb",
      "provenance": [],
      "include_colab_link": true
    },
    "kernelspec": {
      "display_name": "Python 3",
      "language": "python",
      "name": "python3"
    },
    "language_info": {
      "codemirror_mode": {
        "name": "ipython",
        "version": 3
      },
      "file_extension": ".py",
      "mimetype": "text/x-python",
      "name": "python",
      "nbconvert_exporter": "python",
      "pygments_lexer": "ipython3",
      "version": "3.8.3"
    },
    "toc": {
      "base_numbering": 1,
      "nav_menu": {},
      "number_sections": true,
      "sideBar": true,
      "skip_h1_title": false,
      "title_cell": "Table of Contents",
      "title_sidebar": "Contents",
      "toc_cell": false,
      "toc_position": {
        "height": "calc(100% - 180px)",
        "left": "10px",
        "top": "150px",
        "width": "252px"
      },
      "toc_section_display": true,
      "toc_window_display": true
    }
  },
  "cells": [
    {
      "cell_type": "markdown",
      "metadata": {
        "id": "view-in-github",
        "colab_type": "text"
      },
      "source": [
        "<a href=\"https://colab.research.google.com/github/joel8716/HelloWorld/blob/master/DSTN07_Numpy_Parte_I_COMPLETO.ipynb\" target=\"_parent\"><img src=\"https://colab.research.google.com/assets/colab-badge.svg\" alt=\"Open In Colab\"/></a>"
      ]
    },
    {
      "cell_type": "markdown",
      "metadata": {
        "id": "KBJO4S-J_6c4"
      },
      "source": [
        "# Agenda"
      ]
    },
    {
      "cell_type": "markdown",
      "metadata": {
        "id": "-UpxjWne_6c8"
      },
      "source": [
        "> Data: 16/09/2020<br>\n",
        "> Aula: 03 <br>\n",
        "> Módulo: 00 <br>\n",
        "> Instrutores: Bruno Vieira e Maurício Nascimento<br>\n",
        "> Turma: DSTN07"
      ]
    },
    {
      "cell_type": "markdown",
      "metadata": {
        "id": "tUSn-CN2_6c9"
      },
      "source": [
        "O objetivo dessa aula é introduzir a biblioteca Numpy.\n"
      ]
    },
    {
      "cell_type": "markdown",
      "metadata": {
        "id": "Nlb9ZUWT_6c-"
      },
      "source": [
        "**Tópicos**:\n",
        "* Numpy:\n",
        " - ndarray\n",
        " - Inicialização de Arrays Numpy e Primeiros Passos\n",
        " - Manipulação das dimensões de um array\n",
        " - Fatiamento em Arrays\n",
        "\n",
        "\n"
      ]
    },
    {
      "cell_type": "markdown",
      "metadata": {
        "id": "kgZ2B6LW_6c-"
      },
      "source": [
        "# Numpy (Parte I)"
      ]
    },
    {
      "cell_type": "markdown",
      "metadata": {
        "id": "bbgEgpY6_6c_"
      },
      "source": [
        "## ndarray"
      ]
    },
    {
      "cell_type": "markdown",
      "metadata": {
        "id": "iXRR3UWS_6dA"
      },
      "source": [
        "O uso de arrays numpy se popularizou no meio da computação científica, por sua eficiência. Essa eficiência se deve muito em função das seguintes características:\n",
        "\n",
        "* Todos os elementos são do mesmo tipo (float ou int)\n",
        "* Os arrays têm tamanho fixo"
      ]
    },
    {
      "cell_type": "markdown",
      "metadata": {
        "id": "xJrXUA7x_6dB"
      },
      "source": [
        "## Inicialização de Arrays Numpy e Primeiros Passos"
      ]
    },
    {
      "cell_type": "code",
      "metadata": {
        "id": "2LNRSrWx_6dC"
      },
      "source": [
        "import numpy as np"
      ],
      "execution_count": null,
      "outputs": []
    },
    {
      "cell_type": "code",
      "metadata": {
        "id": "0uPwd0Ct_6dD"
      },
      "source": [
        "# posso iniciar com uma lista\n",
        "lista = [1,2,3]\n",
        "# podemos definir o tipo\n",
        "np_array = np.array(lista, float) "
      ],
      "execution_count": null,
      "outputs": []
    },
    {
      "cell_type": "code",
      "metadata": {
        "id": "l1_NIzwR_6dE",
        "outputId": "662d7b54-36a4-470f-d995-56d6ce846ea9"
      },
      "source": [
        "print(np_array)"
      ],
      "execution_count": null,
      "outputs": [
        {
          "output_type": "stream",
          "text": [
            "[1 2 3]\n"
          ],
          "name": "stdout"
        }
      ]
    },
    {
      "cell_type": "code",
      "metadata": {
        "id": "a-IHNhXW_6dG",
        "outputId": "78daad53-175a-4174-c964-246f2444ab35"
      },
      "source": [
        "# Alguns atributos\n",
        "# tipo\n",
        "type(np_array)"
      ],
      "execution_count": null,
      "outputs": [
        {
          "output_type": "execute_result",
          "data": {
            "text/plain": [
              "numpy.ndarray"
            ]
          },
          "metadata": {
            "tags": []
          },
          "execution_count": 7
        }
      ]
    },
    {
      "cell_type": "code",
      "metadata": {
        "id": "a1KaH-eD_6dG",
        "outputId": "b381d7ce-2bf8-43cf-9263-cfbd2cd85834"
      },
      "source": [
        "# numero de dimensoes\n",
        "np_array.ndim"
      ],
      "execution_count": null,
      "outputs": [
        {
          "output_type": "execute_result",
          "data": {
            "text/plain": [
              "1"
            ]
          },
          "metadata": {
            "tags": []
          },
          "execution_count": 15
        }
      ]
    },
    {
      "cell_type": "code",
      "metadata": {
        "id": "_KDiLRRj_6dH",
        "outputId": "7f8d4c73-5d0d-4487-a352-d48c739b7df7"
      },
      "source": [
        "# shape\n",
        "np_array.shape"
      ],
      "execution_count": null,
      "outputs": [
        {
          "output_type": "execute_result",
          "data": {
            "text/plain": [
              "(3,)"
            ]
          },
          "metadata": {
            "tags": []
          },
          "execution_count": 16
        }
      ]
    },
    {
      "cell_type": "code",
      "metadata": {
        "id": "LWkdkE25_6dI",
        "outputId": "22d53f9b-b5d3-4dff-f5d5-dbb6331fc6b5"
      },
      "source": [
        "# tamanho (numero de elementos)\n",
        "np_array.size"
      ],
      "execution_count": null,
      "outputs": [
        {
          "output_type": "execute_result",
          "data": {
            "text/plain": [
              "3"
            ]
          },
          "metadata": {
            "tags": []
          },
          "execution_count": 17
        }
      ]
    },
    {
      "cell_type": "code",
      "metadata": {
        "id": "4FS0-G1k_6dI"
      },
      "source": [
        "# Arrays de 1 e 0\n",
        "# zeros\n",
        "z = np.zeros((2,3))\n",
        "# uns\n",
        "u = np.ones((3,3), int)\n",
        "i = np.identity(2,float)"
      ],
      "execution_count": null,
      "outputs": []
    },
    {
      "cell_type": "code",
      "metadata": {
        "id": "DRo-375W_6dJ",
        "outputId": "d3a37acf-156c-426b-e806-5542f97be153"
      },
      "source": [
        "print(z)"
      ],
      "execution_count": null,
      "outputs": [
        {
          "output_type": "stream",
          "text": [
            "[[0. 0. 0.]\n",
            " [0. 0. 0.]]\n"
          ],
          "name": "stdout"
        }
      ]
    },
    {
      "cell_type": "code",
      "metadata": {
        "id": "ieAiyG1i_6dJ",
        "outputId": "75925326-0f3a-48ba-9e4c-7a7e36aa53b8"
      },
      "source": [
        "z.shape"
      ],
      "execution_count": null,
      "outputs": [
        {
          "output_type": "execute_result",
          "data": {
            "text/plain": [
              "(2, 3)"
            ]
          },
          "metadata": {
            "tags": []
          },
          "execution_count": 18
        }
      ]
    },
    {
      "cell_type": "code",
      "metadata": {
        "id": "Xfs2EFJJ_6dJ",
        "outputId": "dd92a518-ff13-40b8-ef7c-27ef64ae2ea8"
      },
      "source": [
        "z.ndim"
      ],
      "execution_count": null,
      "outputs": [
        {
          "output_type": "execute_result",
          "data": {
            "text/plain": [
              "2"
            ]
          },
          "metadata": {
            "tags": []
          },
          "execution_count": 19
        }
      ]
    },
    {
      "cell_type": "code",
      "metadata": {
        "id": "pXj-YYhG_6dK",
        "outputId": "458bab77-aa85-4353-b852-eaa74487fba3"
      },
      "source": [
        "print(u)"
      ],
      "execution_count": null,
      "outputs": [
        {
          "output_type": "stream",
          "text": [
            "[[1 1 1]\n",
            " [1 1 1]\n",
            " [1 1 1]]\n"
          ],
          "name": "stdout"
        }
      ]
    },
    {
      "cell_type": "code",
      "metadata": {
        "id": "7L-dwqL6_6dK",
        "outputId": "6fcc4cf6-a1bb-4604-b666-faa914560f91"
      },
      "source": [
        "print(i)"
      ],
      "execution_count": null,
      "outputs": [
        {
          "output_type": "stream",
          "text": [
            "[[1. 0.]\n",
            " [0. 1.]]\n"
          ],
          "name": "stdout"
        }
      ]
    },
    {
      "cell_type": "markdown",
      "metadata": {
        "id": "_k_GBdlT_6dL"
      },
      "source": [
        "Se quisermos um array com um valor específico, usamos o ```np.full```"
      ]
    },
    {
      "cell_type": "code",
      "metadata": {
        "id": "jq_UWwu2_6dL",
        "outputId": "f7773a04-45c0-47ef-882c-5236e73b666c"
      },
      "source": [
        "np.full((2,3), 0.7)"
      ],
      "execution_count": null,
      "outputs": [
        {
          "output_type": "execute_result",
          "data": {
            "text/plain": [
              "array([[0.7, 0.7, 0.7],\n",
              "       [0.7, 0.7, 0.7]])"
            ]
          },
          "metadata": {
            "tags": []
          },
          "execution_count": 20
        }
      ]
    },
    {
      "cell_type": "markdown",
      "metadata": {
        "id": "Wh69j6YJ_6dM"
      },
      "source": [
        "## Manipulação das dimensões de um array"
      ]
    },
    {
      "cell_type": "markdown",
      "metadata": {
        "id": "P0lqbwan_6dM"
      },
      "source": [
        "Se temos um array de dimensões n x m, podemos aplicar uma reformatação, para que mude suas dimensões sem alterar os dados.\n",
        "O importante é que o produto n.m seja constante.\n",
        "\n"
      ]
    },
    {
      "cell_type": "code",
      "metadata": {
        "id": "GWqjMiJJ_6dM"
      },
      "source": [
        "# \n",
        "narray = np.full((2,6),0.45)"
      ],
      "execution_count": null,
      "outputs": []
    },
    {
      "cell_type": "code",
      "metadata": {
        "id": "fG-U-HZM_6dM"
      },
      "source": [
        "n = 2\n",
        "m = 6"
      ],
      "execution_count": null,
      "outputs": []
    },
    {
      "cell_type": "code",
      "metadata": {
        "id": "VD2-Ebd4_6dN",
        "outputId": "2db57e04-f13e-401c-d3c5-cbcd57b81eb4"
      },
      "source": [
        "produto = 2*6\n",
        "print(produto)"
      ],
      "execution_count": null,
      "outputs": [
        {
          "output_type": "stream",
          "text": [
            "12\n"
          ],
          "name": "stdout"
        }
      ]
    },
    {
      "cell_type": "markdown",
      "metadata": {
        "id": "khnzcDAp_6dN"
      },
      "source": [
        "possibilidades:\n",
        "- 3*4\n",
        "- 6*2\n",
        "- 4*3\n",
        "- 1*12"
      ]
    },
    {
      "cell_type": "code",
      "metadata": {
        "id": "GmFS-U0E_6dN",
        "outputId": "46cd12eb-b664-4589-fd7f-651aa5d1141e"
      },
      "source": [
        "narray.reshape(3,4)"
      ],
      "execution_count": null,
      "outputs": [
        {
          "output_type": "execute_result",
          "data": {
            "text/plain": [
              "array([[0.45, 0.45, 0.45, 0.45],\n",
              "       [0.45, 0.45, 0.45, 0.45],\n",
              "       [0.45, 0.45, 0.45, 0.45]])"
            ]
          },
          "metadata": {
            "tags": []
          },
          "execution_count": 27
        }
      ]
    },
    {
      "cell_type": "code",
      "metadata": {
        "id": "Q1zWoR8I_6dO"
      },
      "source": [
        "narray.reshape(2,6)"
      ],
      "execution_count": null,
      "outputs": []
    },
    {
      "cell_type": "code",
      "metadata": {
        "id": "94-IbtOQ_6dO"
      },
      "source": [
        "narray.reshape(12,1)"
      ],
      "execution_count": null,
      "outputs": []
    },
    {
      "cell_type": "code",
      "metadata": {
        "id": "KyuybaV5_6dO",
        "outputId": "f540bba9-38be-47ef-f562-98b6abb805db"
      },
      "source": [
        "narray.reshape(1,12)"
      ],
      "execution_count": null,
      "outputs": [
        {
          "output_type": "execute_result",
          "data": {
            "text/plain": [
              "array([[0.45, 0.45, 0.45, 0.45, 0.45, 0.45, 0.45, 0.45, 0.45, 0.45, 0.45,\n",
              "        0.45]])"
            ]
          },
          "metadata": {
            "tags": []
          },
          "execution_count": 38
        }
      ]
    },
    {
      "cell_type": "markdown",
      "metadata": {
        "id": "fbAeSbSP_6dO"
      },
      "source": [
        "O comando ravel distorce o array multidimensional e o transforma em um array 1D."
      ]
    },
    {
      "cell_type": "code",
      "metadata": {
        "id": "_cGhX8w2_6dP"
      },
      "source": [
        "# ravel\n",
        "narray = np.full((2,6),0.45)\n"
      ],
      "execution_count": null,
      "outputs": []
    },
    {
      "cell_type": "code",
      "metadata": {
        "id": "DWc6wuwm_6dP",
        "outputId": "4df30633-2574-4a04-807d-885954311665"
      },
      "source": [
        "narray.ravel()"
      ],
      "execution_count": null,
      "outputs": [
        {
          "output_type": "execute_result",
          "data": {
            "text/plain": [
              "array([0.45, 0.45, 0.45, 0.45, 0.45, 0.45, 0.45, 0.45, 0.45, 0.45, 0.45,\n",
              "       0.45])"
            ]
          },
          "metadata": {
            "tags": []
          },
          "execution_count": 40
        }
      ]
    },
    {
      "cell_type": "markdown",
      "metadata": {
        "id": "YzG36MHu_6dP"
      },
      "source": [
        "## Fatiamento em Arrays"
      ]
    },
    {
      "cell_type": "markdown",
      "metadata": {
        "id": "hi05j-nA_6dP"
      },
      "source": [
        ": --> significa todos"
      ]
    },
    {
      "cell_type": "code",
      "metadata": {
        "id": "k3FJZNF5_6dQ"
      },
      "source": [
        "lista = [[0, 1, 2, 3], [4, 5, 6, 7], [8, 9, 10, 11]]"
      ],
      "execution_count": null,
      "outputs": []
    },
    {
      "cell_type": "code",
      "metadata": {
        "id": "6nFHC3Gw_6dQ"
      },
      "source": [
        "mat = np.array(lista)"
      ],
      "execution_count": null,
      "outputs": []
    },
    {
      "cell_type": "code",
      "metadata": {
        "id": "OLaRWLDD_6dQ",
        "outputId": "fa6339b5-21bd-4746-f7c9-e9d35952fbdb"
      },
      "source": [
        "mat"
      ],
      "execution_count": null,
      "outputs": [
        {
          "output_type": "execute_result",
          "data": {
            "text/plain": [
              "array([[ 0,  1,  2,  3],\n",
              "       [ 4,  5,  6,  7],\n",
              "       [ 8,  9, 10, 11]])"
            ]
          },
          "metadata": {
            "tags": []
          },
          "execution_count": 44
        }
      ]
    },
    {
      "cell_type": "code",
      "metadata": {
        "id": "45YMuo8P_6dQ",
        "outputId": "1da7bb42-bac5-4d20-fb4d-afc91f33f2e8"
      },
      "source": [
        "mat[0,0]"
      ],
      "execution_count": null,
      "outputs": [
        {
          "output_type": "execute_result",
          "data": {
            "text/plain": [
              "0"
            ]
          },
          "metadata": {
            "tags": []
          },
          "execution_count": 45
        }
      ]
    },
    {
      "cell_type": "code",
      "metadata": {
        "id": "xn3E721M_6dR",
        "outputId": "2d27eec0-673b-424f-ad9a-c33704433ac5"
      },
      "source": [
        "mat[0,:]"
      ],
      "execution_count": null,
      "outputs": [
        {
          "output_type": "execute_result",
          "data": {
            "text/plain": [
              "array([0, 1, 2, 3])"
            ]
          },
          "metadata": {
            "tags": []
          },
          "execution_count": 46
        }
      ]
    },
    {
      "cell_type": "code",
      "metadata": {
        "id": "vtxBBgYE_6dR",
        "outputId": "6250e533-7e67-444b-f140-fc38322e365c"
      },
      "source": [
        "mat[:,0]"
      ],
      "execution_count": null,
      "outputs": [
        {
          "output_type": "execute_result",
          "data": {
            "text/plain": [
              "array([0, 4, 8])"
            ]
          },
          "metadata": {
            "tags": []
          },
          "execution_count": 47
        }
      ]
    },
    {
      "cell_type": "code",
      "metadata": {
        "id": "hwdmOFnC_6dR",
        "outputId": "2b012696-4dfd-421f-dc6b-38e2e5a06945"
      },
      "source": [
        "mat[:,2]"
      ],
      "execution_count": null,
      "outputs": [
        {
          "output_type": "execute_result",
          "data": {
            "text/plain": [
              "array([ 2,  6, 10])"
            ]
          },
          "metadata": {
            "tags": []
          },
          "execution_count": 50
        }
      ]
    },
    {
      "cell_type": "markdown",
      "metadata": {
        "id": "-RbvyOWU_6dR"
      },
      "source": [
        "Exercício, print elemento por elemento, utilizando For loop, o seguinte array: <br>\n",
        "    array_exercicio = np.array([1,2,3],[4,5,6])"
      ]
    }
  ]
}